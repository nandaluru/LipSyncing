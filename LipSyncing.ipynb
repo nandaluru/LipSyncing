{
  "nbformat": 4,
  "nbformat_minor": 0,
  "metadata": {
    "colab": {
      "provenance": [],
      "authorship_tag": "ABX9TyNXX3WN4W0p3KeOQQ8NxoMz",
      "include_colab_link": true
    },
    "kernelspec": {
      "name": "python3",
      "display_name": "Python 3"
    },
    "language_info": {
      "name": "python"
    }
  },
  "cells": [
    {
      "cell_type": "markdown",
      "metadata": {
        "id": "view-in-github",
        "colab_type": "text"
      },
      "source": [
        "<a href=\"https://colab.research.google.com/github/nandaluru/LipSyncing/blob/main/LipSyncing.ipynb\" target=\"_parent\"><img src=\"https://colab.research.google.com/assets/colab-badge.svg\" alt=\"Open In Colab\"/></a>"
      ]
    },
    {
      "cell_type": "markdown",
      "source": [
        "# **Mount Google Drive**\n",
        "In this cell, we will mount Google Drive to access files in the Colab environment.\n"
      ],
      "metadata": {
        "id": "YmFg9pCZSsMK"
      }
    },
    {
      "cell_type": "code",
      "source": [
        "from google.colab import drive\n",
        "drive.mount('/content/drive')"
      ],
      "metadata": {
        "colab": {
          "base_uri": "https://localhost:8080/"
        },
        "id": "D6fQyW57STPF",
        "outputId": "129f0573-e581-4ed4-8c05-2aca6a2fd277"
      },
      "execution_count": 38,
      "outputs": [
        {
          "output_type": "stream",
          "name": "stdout",
          "text": [
            "Drive already mounted at /content/drive; to attempt to forcibly remount, call drive.mount(\"/content/drive\", force_remount=True).\n"
          ]
        }
      ]
    },
    {
      "cell_type": "markdown",
      "source": [
        "# **Clone Wav2Lip Repository from GitHub**\n",
        "\n",
        "In this cell, we will clone the Wav2Lip repository from GitHub. This repository contains the source code and related files for the Wav2Lip project.\n"
      ],
      "metadata": {
        "id": "9ZPEf0q0TWih"
      }
    },
    {
      "cell_type": "code",
      "source": [
        "!git clone https://github.com/Rudrabha/Wav2Lip.git"
      ],
      "metadata": {
        "colab": {
          "base_uri": "https://localhost:8080/"
        },
        "id": "S2v8DVFLTeCE",
        "outputId": "ec3e338a-7ac3-49bf-96e9-02e4a86eadff"
      },
      "execution_count": 39,
      "outputs": [
        {
          "output_type": "stream",
          "name": "stdout",
          "text": [
            "fatal: destination path 'Wav2Lip' already exists and is not an empty directory.\n"
          ]
        }
      ]
    },
    {
      "cell_type": "markdown",
      "source": [
        "# **Setup Google Drive**\n",
        "\n",
        "1. **Create Folders:**\n",
        "    - In Google Drive, make a folder named `LipSync` in MyDrive.\n",
        "    - Create another folder called `model_weights`.\n",
        "\n",
        "2. **Upload Files:**\n",
        "    - Upload `input-video.mp4` and `input-audio.wav` to `LipSync`.\n",
        "    - Download pretrained model weights from [Wav2Lip GitHub](https://github.com/Rudrabha/Wav2Lip#getting-the-weights) and upload them to `model_weights`.\n",
        "\n",
        "\n"
      ],
      "metadata": {
        "id": "ukHLC-QyUan_"
      }
    },
    {
      "cell_type": "markdown",
      "source": [
        "# **Contents of /content/drive/MyDrive/LipSync**\n",
        "\n",
        "In this cell, we will list the contents of the `LipSync` directory in your Google Drive.\n"
      ],
      "metadata": {
        "id": "tRQpd_uMVuC2"
      }
    },
    {
      "cell_type": "code",
      "source": [
        "!ls /content/drive/MyDrive/LipSync"
      ],
      "metadata": {
        "colab": {
          "base_uri": "https://localhost:8080/"
        },
        "id": "uAdxJjclWbXJ",
        "outputId": "6035047d-40a1-4299-98c9-88e0179d23ac"
      },
      "execution_count": 40,
      "outputs": [
        {
          "output_type": "stream",
          "name": "stdout",
          "text": [
            "input-audio.wav  input-video.mp4\n"
          ]
        }
      ]
    },
    {
      "cell_type": "markdown",
      "source": [
        "# **Copy Pretrained Model to Wav2Lip Checkpoints**\n",
        "\n",
        "In this cell, we copy the pretrained model (`wav2lip_gan.pth`) from the Google Drive folder to the `checkpoints` directory in the Wav2Lip project.\n"
      ],
      "metadata": {
        "id": "uZrQD2gSYCyu"
      }
    },
    {
      "cell_type": "code",
      "source": [
        "!cp -ri \"/content/drive/MyDrive/model_weights/wav2lip_gan.pth\" /content/Wav2Lip/checkpoints/"
      ],
      "metadata": {
        "colab": {
          "base_uri": "https://localhost:8080/"
        },
        "id": "QZ_xgYSYYMgd",
        "outputId": "db696331-0a07-48f2-c51a-45c425561442"
      },
      "execution_count": 41,
      "outputs": [
        {
          "output_type": "stream",
          "name": "stdout",
          "text": [
            "cp: overwrite '/content/Wav2Lip/checkpoints/wav2lip_gan.pth'? y\n"
          ]
        }
      ]
    },
    {
      "cell_type": "markdown",
      "source": [
        "# **Install Wav2Lip Dependencies**\n",
        "\n",
        "In this cell, we install the required Python packages listed in the `requirements.txt` file.\n"
      ],
      "metadata": {
        "id": "nuAgsZ_BW-mq"
      }
    },
    {
      "cell_type": "code",
      "source": [
        "!cd Wav2Lip && pip install -r requirements.txt"
      ],
      "metadata": {
        "colab": {
          "base_uri": "https://localhost:8080/"
        },
        "id": "AOnA1expWsmJ",
        "outputId": "b9021ca3-533a-436b-8bd4-debd3e2c9260"
      },
      "execution_count": 42,
      "outputs": [
        {
          "output_type": "stream",
          "name": "stdout",
          "text": [
            "Collecting librosa==0.7.0 (from -r requirements.txt (line 1))\n",
            "  Using cached librosa-0.7.0.tar.gz (1.6 MB)\n",
            "  Preparing metadata (setup.py) ... \u001b[?25l\u001b[?25hdone\n",
            "Collecting numpy==1.17.1 (from -r requirements.txt (line 2))\n",
            "  Using cached numpy-1.17.1.zip (6.5 MB)\n",
            "  Preparing metadata (setup.py) ... \u001b[?25l\u001b[?25hdone\n",
            "Requirement already satisfied: opencv-contrib-python>=4.2.0.34 in /usr/local/lib/python3.10/dist-packages (from -r requirements.txt (line 3)) (4.8.0.76)\n",
            "\u001b[31mERROR: Could not find a version that satisfies the requirement opencv-python==4.1.0.25 (from versions: 3.4.0.14, 3.4.10.37, 3.4.11.39, 3.4.11.41, 3.4.11.43, 3.4.11.45, 3.4.13.47, 3.4.15.55, 3.4.16.57, 3.4.16.59, 3.4.17.61, 3.4.17.63, 3.4.18.65, 4.3.0.38, 4.4.0.40, 4.4.0.42, 4.4.0.44, 4.4.0.46, 4.5.1.48, 4.5.3.56, 4.5.4.58, 4.5.4.60, 4.5.5.62, 4.5.5.64, 4.6.0.66, 4.7.0.68, 4.7.0.72, 4.8.0.74, 4.8.0.76, 4.8.1.78, 4.9.0.80)\u001b[0m\u001b[31m\n",
            "\u001b[0m\u001b[31mERROR: No matching distribution found for opencv-python==4.1.0.25\u001b[0m\u001b[31m\n",
            "\u001b[0m"
          ]
        }
      ]
    },
    {
      "cell_type": "code",
      "source": [
        "!pip install librosa==0.8.0"
      ],
      "metadata": {
        "colab": {
          "base_uri": "https://localhost:8080/"
        },
        "id": "JmazUjwOYqSp",
        "outputId": "cae65a28-e315-44ff-e221-677a5fb1da01"
      },
      "execution_count": 43,
      "outputs": [
        {
          "output_type": "stream",
          "name": "stdout",
          "text": [
            "Requirement already satisfied: librosa==0.8.0 in /usr/local/lib/python3.10/dist-packages (0.8.0)\n",
            "Requirement already satisfied: audioread>=2.0.0 in /usr/local/lib/python3.10/dist-packages (from librosa==0.8.0) (3.0.1)\n",
            "Requirement already satisfied: numpy>=1.15.0 in /usr/local/lib/python3.10/dist-packages (from librosa==0.8.0) (1.23.5)\n",
            "Requirement already satisfied: scipy>=1.0.0 in /usr/local/lib/python3.10/dist-packages (from librosa==0.8.0) (1.11.4)\n",
            "Requirement already satisfied: scikit-learn!=0.19.0,>=0.14.0 in /usr/local/lib/python3.10/dist-packages (from librosa==0.8.0) (1.2.2)\n",
            "Requirement already satisfied: joblib>=0.14 in /usr/local/lib/python3.10/dist-packages (from librosa==0.8.0) (1.3.2)\n",
            "Requirement already satisfied: decorator>=3.0.0 in /usr/local/lib/python3.10/dist-packages (from librosa==0.8.0) (4.4.2)\n",
            "Requirement already satisfied: resampy>=0.2.2 in /usr/local/lib/python3.10/dist-packages (from librosa==0.8.0) (0.4.2)\n",
            "Requirement already satisfied: numba>=0.43.0 in /usr/local/lib/python3.10/dist-packages (from librosa==0.8.0) (0.58.1)\n",
            "Requirement already satisfied: soundfile>=0.9.0 in /usr/local/lib/python3.10/dist-packages (from librosa==0.8.0) (0.12.1)\n",
            "Requirement already satisfied: pooch>=1.0 in /usr/local/lib/python3.10/dist-packages (from librosa==0.8.0) (1.8.0)\n",
            "Requirement already satisfied: llvmlite<0.42,>=0.41.0dev0 in /usr/local/lib/python3.10/dist-packages (from numba>=0.43.0->librosa==0.8.0) (0.41.1)\n",
            "Requirement already satisfied: platformdirs>=2.5.0 in /usr/local/lib/python3.10/dist-packages (from pooch>=1.0->librosa==0.8.0) (4.1.0)\n",
            "Requirement already satisfied: packaging>=20.0 in /usr/local/lib/python3.10/dist-packages (from pooch>=1.0->librosa==0.8.0) (23.2)\n",
            "Requirement already satisfied: requests>=2.19.0 in /usr/local/lib/python3.10/dist-packages (from pooch>=1.0->librosa==0.8.0) (2.31.0)\n",
            "Requirement already satisfied: threadpoolctl>=2.0.0 in /usr/local/lib/python3.10/dist-packages (from scikit-learn!=0.19.0,>=0.14.0->librosa==0.8.0) (3.2.0)\n",
            "Requirement already satisfied: cffi>=1.0 in /usr/local/lib/python3.10/dist-packages (from soundfile>=0.9.0->librosa==0.8.0) (1.16.0)\n",
            "Requirement already satisfied: pycparser in /usr/local/lib/python3.10/dist-packages (from cffi>=1.0->soundfile>=0.9.0->librosa==0.8.0) (2.21)\n",
            "Requirement already satisfied: charset-normalizer<4,>=2 in /usr/local/lib/python3.10/dist-packages (from requests>=2.19.0->pooch>=1.0->librosa==0.8.0) (3.3.2)\n",
            "Requirement already satisfied: idna<4,>=2.5 in /usr/local/lib/python3.10/dist-packages (from requests>=2.19.0->pooch>=1.0->librosa==0.8.0) (3.6)\n",
            "Requirement already satisfied: urllib3<3,>=1.21.1 in /usr/local/lib/python3.10/dist-packages (from requests>=2.19.0->pooch>=1.0->librosa==0.8.0) (2.0.7)\n",
            "Requirement already satisfied: certifi>=2017.4.17 in /usr/local/lib/python3.10/dist-packages (from requests>=2.19.0->pooch>=1.0->librosa==0.8.0) (2023.11.17)\n"
          ]
        }
      ]
    },
    {
      "cell_type": "markdown",
      "source": [
        "# **Download Face Detection Model (s3fd.pth)**\n",
        "\n",
        "In this cell, we download the face detection model (`s3fd.pth`) from [Adrian Bulat's website](https://www.adrianbulat.com/downloads/python-fan/s3fd-619a316812.pth) and save it in the appropriate directory within the Wav2Lip project.\n"
      ],
      "metadata": {
        "id": "VJv-vbO_ZV4R"
      }
    },
    {
      "cell_type": "code",
      "source": [
        "!wget \"https://www.adrianbulat.com/downloads/python-fan/s3fd-619a316812.pth\" -O \"Wav2Lip/face_detection/detection/sfd/s3fd.pth\""
      ],
      "metadata": {
        "colab": {
          "base_uri": "https://localhost:8080/"
        },
        "id": "02UkIEkbZoxV",
        "outputId": "ca889f35-bda7-4134-d15c-2eaf59f3e347"
      },
      "execution_count": 44,
      "outputs": [
        {
          "output_type": "stream",
          "name": "stdout",
          "text": [
            "--2023-12-31 14:33:35--  https://www.adrianbulat.com/downloads/python-fan/s3fd-619a316812.pth\n",
            "Resolving www.adrianbulat.com (www.adrianbulat.com)... 45.136.29.207\n",
            "Connecting to www.adrianbulat.com (www.adrianbulat.com)|45.136.29.207|:443... connected.\n",
            "HTTP request sent, awaiting response... 200 OK\n",
            "Length: 89843225 (86M) [application/octet-stream]\n",
            "Saving to: ‘Wav2Lip/face_detection/detection/sfd/s3fd.pth’\n",
            "\n",
            "Wav2Lip/face_detect 100%[===================>]  85.68M  20.1MB/s    in 5.0s    \n",
            "\n",
            "2023-12-31 14:33:41 (17.1 MB/s) - ‘Wav2Lip/face_detection/detection/sfd/s3fd.pth’ saved [89843225/89843225]\n",
            "\n"
          ]
        }
      ]
    },
    {
      "cell_type": "markdown",
      "source": [
        "# **Copy Input Files to Sample Data**\n",
        "\n",
        "In this cell, we copy the input video (`input-video.mp4`) and input audio (`input-audio.wav`) from the Google Drive directory to the `sample_data` directory.\n"
      ],
      "metadata": {
        "id": "tt1QidnEaNnP"
      }
    },
    {
      "cell_type": "code",
      "source": [
        "!cp \"/content/drive/MyDrive/LipSync/input-video.mp4\" \"/content/drive/MyDrive/LipSync/input-audio.wav\" sample_data/\n",
        "!ls sample_data/"
      ],
      "metadata": {
        "colab": {
          "base_uri": "https://localhost:8080/"
        },
        "id": "v_iKJ4i0afg1",
        "outputId": "35bc520b-2777-407a-a909-2ae5cc301ec6"
      },
      "execution_count": 45,
      "outputs": [
        {
          "output_type": "stream",
          "name": "stdout",
          "text": [
            "anscombe.json\t\t     california_housing_train.csv  input-video.mp4  mnist_train_small.csv\n",
            "california_housing_test.csv  input-audio.wav\t\t   mnist_test.csv   README.md\n"
          ]
        }
      ]
    },
    {
      "cell_type": "markdown",
      "source": [
        "# **Run Wav2Lip Inference**\n",
        "\n",
        "In this cell, we run the Wav2Lip inference script (`inference.py`) with the specified checkpoint path, input video, and audio files. The initial inference is performed without resizing, and later, a resized version is attempted with a specified resize factor.\n",
        "\n"
      ],
      "metadata": {
        "id": "9-buAYBPbZ9X"
      }
    },
    {
      "cell_type": "code",
      "source": [
        "!cd Wav2Lip && python inference.py --checkpoint_path checkpoints/wav2lip_gan.pth --face \"/content/drive/MyDrive/LipSync/input-video.mp4\" --audio \"/content/sample_data/input-audio.wav\""
      ],
      "metadata": {
        "colab": {
          "base_uri": "https://localhost:8080/"
        },
        "id": "pQ-HTIJIb9qW",
        "outputId": "f8692851-606e-46db-a2b4-35a63f71b545"
      },
      "execution_count": 46,
      "outputs": [
        {
          "output_type": "stream",
          "name": "stdout",
          "text": [
            "Using cpu for inference.\n",
            "Reading video frames...\n",
            "Number of frames available for inference: 796\n",
            "(80, 5386)\n",
            "Length of mel chunks: 1680\n",
            "  0% 0/14 [00:00<?, ?it/s]\n",
            "  0% 0/50 [00:00<?, ?it/s]\u001b[A^C\n"
          ]
        }
      ]
    },
    {
      "cell_type": "markdown",
      "source": [
        "# **Variations to try**\n",
        "\n",
        "- Use more padding to include the chin region.\n",
        "\n",
        "- Use resize_factor to reduce the video resolution, as there is a change you might get better results for lower resolution videos. Why? Because the model was trained on low resolution faces."
      ],
      "metadata": {
        "id": "WbNFvn3Ihc3K"
      }
    },
    {
      "cell_type": "code",
      "source": [
        "!cd Wav2Lip && python inference.py --checkpoint_path checkpoints/wav2lip_gan.pth --face \"../sample_data/input-video.mp4\" --audio \"../sample_data/input-audio.wav\" --resize_factor 3 --pad 2 5 0 0"
      ],
      "metadata": {
        "colab": {
          "base_uri": "https://localhost:8080/"
        },
        "id": "yZYG8pTKcTjP",
        "outputId": "33f29838-4b94-4a6b-d46c-7fdf1df54d16"
      },
      "execution_count": 47,
      "outputs": [
        {
          "output_type": "stream",
          "name": "stdout",
          "text": [
            "Using cpu for inference.\n",
            "Reading video frames...\n",
            "Number of frames available for inference: 796\n",
            "(80, 5386)\n",
            "Length of mel chunks: 1680\n",
            "  0% 0/14 [00:00<?, ?it/s]\n",
            "  0% 0/50 [00:00<?, ?it/s]\u001b[A\n",
            "  2% 1/50 [00:22<18:09, 22.24s/it]\u001b[A\n",
            "  4% 2/50 [00:43<17:27, 21.83s/it]\u001b[A\n",
            "  6% 3/50 [01:06<17:16, 22.06s/it]\u001b[A\n",
            "  8% 4/50 [01:27<16:40, 21.76s/it]\u001b[A\n",
            " 10% 5/50 [01:49<16:30, 22.01s/it]\u001b[A\n",
            " 12% 6/50 [02:11<15:58, 21.77s/it]\u001b[A\n",
            " 14% 7/50 [02:33<15:49, 22.09s/it]\u001b[A\n",
            " 16% 8/50 [02:56<15:34, 22.25s/it]\u001b[A\n",
            " 18% 9/50 [03:20<15:30, 22.69s/it]\u001b[A\n",
            " 20% 10/50 [03:41<14:51, 22.28s/it]\u001b[A\n",
            " 22% 11/50 [04:04<14:35, 22.44s/it]\u001b[A\n",
            " 24% 12/50 [04:25<13:57, 22.04s/it]\u001b[A\n",
            " 26% 13/50 [04:48<13:41, 22.21s/it]\u001b[A\n",
            " 28% 14/50 [05:09<13:10, 21.95s/it]\u001b[A\n",
            " 30% 15/50 [05:31<12:52, 22.06s/it]\u001b[A\n",
            " 32% 16/50 [05:53<12:26, 21.96s/it]\u001b[A\n",
            " 34% 17/50 [06:15<12:06, 22.01s/it]\u001b[A\n",
            " 36% 18/50 [06:37<11:44, 22.01s/it]\u001b[A\n",
            " 38% 19/50 [06:59<11:19, 21.91s/it]\u001b[A\n",
            " 40% 20/50 [07:22<11:06, 22.21s/it]\u001b[A\n",
            " 42% 21/50 [07:43<10:35, 21.90s/it]\u001b[A\n",
            " 44% 22/50 [08:07<10:36, 22.72s/it]\u001b[A\n",
            " 46% 23/50 [08:29<10:01, 22.27s/it]\u001b[A\n",
            " 48% 24/50 [09:07<11:41, 26.99s/it]\u001b[A\n",
            " 50% 25/50 [09:30<10:50, 26.01s/it]\u001b[A\n",
            " 52% 26/50 [09:51<09:48, 24.52s/it]\u001b[A\n",
            " 54% 27/50 [10:14<09:12, 24.03s/it]\u001b[A\n",
            " 56% 28/50 [10:35<08:28, 23.13s/it]\u001b[A\n",
            " 58% 29/50 [10:58<08:03, 23.00s/it]\u001b[A\n",
            " 60% 30/50 [11:19<07:29, 22.45s/it]\u001b[A\n",
            " 62% 31/50 [11:42<07:07, 22.52s/it]\u001b[A\n",
            " 64% 32/50 [12:03<06:39, 22.18s/it]\u001b[A\n",
            " 66% 33/50 [12:26<06:18, 22.24s/it]\u001b[A\n",
            " 68% 34/50 [12:47<05:53, 22.07s/it]\u001b[A\n",
            " 70% 35/50 [13:09<05:30, 22.04s/it]\u001b[A\n",
            " 72% 36/50 [13:31<05:08, 22.00s/it]\u001b[A\n",
            " 74% 37/50 [13:53<04:44, 21.92s/it]\u001b[A\n",
            " 76% 38/50 [14:15<04:24, 22.08s/it]\u001b[A\n",
            " 78% 39/50 [14:37<04:00, 21.88s/it]\u001b[A\n",
            " 80% 40/50 [14:59<03:40, 22.08s/it]\u001b[A\n",
            " 82% 41/50 [15:21<03:16, 21.82s/it]\u001b[A\n",
            " 84% 42/50 [15:43<02:56, 22.11s/it]\u001b[A\n",
            " 86% 43/50 [16:04<02:32, 21.80s/it]\u001b[A\n",
            " 88% 44/50 [16:27<02:12, 22.11s/it]\u001b[A\n",
            " 90% 45/50 [16:49<01:49, 21.84s/it]\u001b[A\n",
            " 92% 46/50 [17:11<01:28, 22.10s/it]\u001b[A\n",
            " 94% 47/50 [17:32<01:05, 21.77s/it]\u001b[A\n",
            " 96% 48/50 [17:55<00:44, 22.06s/it]\u001b[A\n",
            " 98% 49/50 [18:16<00:21, 21.80s/it]\u001b[A\n",
            "100% 50/50 [18:33<00:00, 22.27s/it]\n",
            "Load checkpoint from: checkpoints/wav2lip_gan.pth\n",
            "Model loaded\n",
            "100% 14/14 [24:39<00:00, 105.69s/it]\n",
            "ffmpeg version 4.4.2-0ubuntu0.22.04.1 Copyright (c) 2000-2021 the FFmpeg developers\n",
            "  built with gcc 11 (Ubuntu 11.2.0-19ubuntu1)\n",
            "  configuration: --prefix=/usr --extra-version=0ubuntu0.22.04.1 --toolchain=hardened --libdir=/usr/lib/x86_64-linux-gnu --incdir=/usr/include/x86_64-linux-gnu --arch=amd64 --enable-gpl --disable-stripping --enable-gnutls --enable-ladspa --enable-libaom --enable-libass --enable-libbluray --enable-libbs2b --enable-libcaca --enable-libcdio --enable-libcodec2 --enable-libdav1d --enable-libflite --enable-libfontconfig --enable-libfreetype --enable-libfribidi --enable-libgme --enable-libgsm --enable-libjack --enable-libmp3lame --enable-libmysofa --enable-libopenjpeg --enable-libopenmpt --enable-libopus --enable-libpulse --enable-librabbitmq --enable-librubberband --enable-libshine --enable-libsnappy --enable-libsoxr --enable-libspeex --enable-libsrt --enable-libssh --enable-libtheora --enable-libtwolame --enable-libvidstab --enable-libvorbis --enable-libvpx --enable-libwebp --enable-libx265 --enable-libxml2 --enable-libxvid --enable-libzimg --enable-libzmq --enable-libzvbi --enable-lv2 --enable-omx --enable-openal --enable-opencl --enable-opengl --enable-sdl2 --enable-pocketsphinx --enable-librsvg --enable-libmfx --enable-libdc1394 --enable-libdrm --enable-libiec61883 --enable-chromaprint --enable-frei0r --enable-libx264 --enable-shared\n",
            "  libavutil      56. 70.100 / 56. 70.100\n",
            "  libavcodec     58.134.100 / 58.134.100\n",
            "  libavformat    58. 76.100 / 58. 76.100\n",
            "  libavdevice    58. 13.100 / 58. 13.100\n",
            "  libavfilter     7.110.100 /  7.110.100\n",
            "  libswscale      5.  9.100 /  5.  9.100\n",
            "  libswresample   3.  9.100 /  3.  9.100\n",
            "  libpostproc    55.  9.100 / 55.  9.100\n",
            "\u001b[0;35m[mp3 @ 0x56c3ad13b240] \u001b[0m\u001b[0;33mEstimating duration from bitrate, this may be inaccurate\n",
            "\u001b[0mInput #0, mp3, from '../sample_data/input-audio.wav':\n",
            "  Duration: 00:01:07.32, start: 0.000000, bitrate: 96 kb/s\n",
            "  Stream #0:0: Audio: mp3, 44100 Hz, mono, fltp, 96 kb/s\n",
            "Input #1, avi, from 'temp/result.avi':\n",
            "  Metadata:\n",
            "    software        : Lavf59.27.100\n",
            "  Duration: 00:01:07.20, start: 0.000000, bitrate: 762 kb/s\n",
            "  Stream #1:0: Video: mpeg4 (Simple Profile) (DIVX / 0x58564944), yuv420p, 480x240 [SAR 1:1 DAR 2:1], 757 kb/s, 25 fps, 25 tbr, 25 tbn, 25 tbc\n",
            "Stream mapping:\n",
            "  Stream #1:0 -> #0:0 (mpeg4 (native) -> h264 (libx264))\n",
            "  Stream #0:0 -> #0:1 (mp3 (mp3float) -> aac (native))\n",
            "Press [q] to stop, [?] for help\n",
            "\u001b[1;36m[libx264 @ 0x56c3ad18d100] \u001b[0m\u001b[0;33m-qscale is ignored, -crf is recommended.\n",
            "\u001b[0m\u001b[1;36m[libx264 @ 0x56c3ad18d100] \u001b[0musing SAR=1/1\n",
            "\u001b[1;36m[libx264 @ 0x56c3ad18d100] \u001b[0musing cpu capabilities: MMX2 SSE2Fast SSSE3 SSE4.2 AVX FMA3 BMI2 AVX2\n",
            "\u001b[1;36m[libx264 @ 0x56c3ad18d100] \u001b[0mprofile High, level 2.1, 4:2:0, 8-bit\n",
            "\u001b[1;36m[libx264 @ 0x56c3ad18d100] \u001b[0m264 - core 163 r3060 5db6aa6 - H.264/MPEG-4 AVC codec - Copyleft 2003-2021 - http://www.videolan.org/x264.html - options: cabac=1 ref=3 deblock=1:0:0 analyse=0x3:0x113 me=hex subme=7 psy=1 psy_rd=1.00:0.00 mixed_ref=1 me_range=16 chroma_me=1 trellis=1 8x8dct=1 cqm=0 deadzone=21,11 fast_pskip=1 chroma_qp_offset=-2 threads=3 lookahead_threads=1 sliced_threads=0 nr=0 decimate=1 interlaced=0 bluray_compat=0 constrained_intra=0 bframes=3 b_pyramid=2 b_adapt=1 b_bias=0 direct=1 weightb=1 open_gop=0 weightp=2 keyint=250 keyint_min=25 scenecut=40 intra_refresh=0 rc_lookahead=40 rc=crf mbtree=1 crf=23.0 qcomp=0.60 qpmin=0 qpmax=69 qpstep=4 ip_ratio=1.40 aq=1:1.00\n",
            "Output #0, mp4, to 'results/result_voice.mp4':\n",
            "  Metadata:\n",
            "    encoder         : Lavf58.76.100\n",
            "  Stream #0:0: Video: h264 (avc1 / 0x31637661), yuv420p(progressive), 480x240 [SAR 1:1 DAR 2:1], q=2-31, 25 fps, 12800 tbn\n",
            "    Metadata:\n",
            "      encoder         : Lavc58.134.100 libx264\n",
            "    Side data:\n",
            "      cpb: bitrate max/min/avg: 0/0/0 buffer size: 0 vbv_delay: N/A\n",
            "  Stream #0:1: Audio: aac (LC) (mp4a / 0x6134706D), 44100 Hz, mono, fltp, 69 kb/s\n",
            "    Metadata:\n",
            "      encoder         : Lavc58.134.100 aac\n",
            "frame= 1680 fps=132 q=-1.0 Lsize=    2739kB time=00:01:07.31 bitrate= 333.3kbits/s speed=5.29x    \n",
            "video:2115kB audio:571kB subtitle:0kB other streams:0kB global headers:0kB muxing overhead: 1.995845%\n",
            "\u001b[1;36m[libx264 @ 0x56c3ad18d100] \u001b[0mframe I:8     Avg QP:17.86  size:  7557\n",
            "\u001b[1;36m[libx264 @ 0x56c3ad18d100] \u001b[0mframe P:827   Avg QP:22.18  size:  1947\n",
            "\u001b[1;36m[libx264 @ 0x56c3ad18d100] \u001b[0mframe B:845   Avg QP:26.90  size:   584\n",
            "\u001b[1;36m[libx264 @ 0x56c3ad18d100] \u001b[0mconsecutive B-frames: 28.3% 10.6% 10.2% 51.0%\n",
            "\u001b[1;36m[libx264 @ 0x56c3ad18d100] \u001b[0mmb I  I16..4: 18.6% 68.1% 13.2%\n",
            "\u001b[1;36m[libx264 @ 0x56c3ad18d100] \u001b[0mmb P  I16..4:  1.4%  6.5%  0.5%  P16..4: 25.0% 12.3%  7.5%  0.0%  0.0%    skip:46.7%\n",
            "\u001b[1;36m[libx264 @ 0x56c3ad18d100] \u001b[0mmb B  I16..4:  0.2%  1.4%  0.1%  B16..8: 31.2%  5.4%  1.4%  direct: 1.0%  skip:59.3%  L0:46.7% L1:43.6% BI: 9.7%\n",
            "\u001b[1;36m[libx264 @ 0x56c3ad18d100] \u001b[0m8x8 transform intra:77.6% inter:60.3%\n",
            "\u001b[1;36m[libx264 @ 0x56c3ad18d100] \u001b[0mcoded y,uvDC,uvAC intra: 37.5% 31.6% 7.9% inter: 9.9% 6.2% 0.2%\n",
            "\u001b[1;36m[libx264 @ 0x56c3ad18d100] \u001b[0mi16 v,h,dc,p: 46% 14% 27% 13%\n",
            "\u001b[1;36m[libx264 @ 0x56c3ad18d100] \u001b[0mi8 v,h,dc,ddl,ddr,vr,hd,vl,hu: 28% 14% 48%  2%  1%  2%  1%  1%  2%\n",
            "\u001b[1;36m[libx264 @ 0x56c3ad18d100] \u001b[0mi4 v,h,dc,ddl,ddr,vr,hd,vl,hu: 25% 20% 15%  4%  7%  8% 10%  6%  5%\n",
            "\u001b[1;36m[libx264 @ 0x56c3ad18d100] \u001b[0mi8c dc,h,v,p: 60% 15% 23%  2%\n",
            "\u001b[1;36m[libx264 @ 0x56c3ad18d100] \u001b[0mWeighted P-Frames: Y:0.6% UV:0.0%\n",
            "\u001b[1;36m[libx264 @ 0x56c3ad18d100] \u001b[0mref P L0: 70.5% 11.6% 12.7%  5.1%  0.1%\n",
            "\u001b[1;36m[libx264 @ 0x56c3ad18d100] \u001b[0mref B L0: 85.6% 11.4%  3.0%\n",
            "\u001b[1;36m[libx264 @ 0x56c3ad18d100] \u001b[0mref B L1: 96.3%  3.7%\n",
            "\u001b[1;36m[libx264 @ 0x56c3ad18d100] \u001b[0mkb/s:257.71\n",
            "\u001b[1;36m[aac @ 0x56c3ad18e2c0] \u001b[0mQavg: 158.533\n"
          ]
        }
      ]
    }
  ]
}